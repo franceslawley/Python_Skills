{
  "nbformat": 4,
  "nbformat_minor": 0,
  "metadata": {
    "colab": {
      "name": "1. Python Exercises.ipynb",
      "provenance": [],
      "collapsed_sections": [
        "behD0j_Of2TW",
        "SjiolJKgiWV-",
        "BLBD6n9vkJEu",
        "rUPDjYiIkbgs",
        "SbnbPUPTlLD9",
        "-0sdutTDnTKA"
      ],
      "include_colab_link": true
    },
    "kernelspec": {
      "name": "python3",
      "display_name": "Python 3"
    }
  },
  "cells": [
    {
      "cell_type": "markdown",
      "metadata": {
        "id": "view-in-github",
        "colab_type": "text"
      },
      "source": [
        "<a href=\"https://colab.research.google.com/github/franceslawley/Python_Skills/blob/main/1_Python_Exercises.ipynb\" target=\"_parent\"><img src=\"https://colab.research.google.com/assets/colab-badge.svg\" alt=\"Open In Colab\"/></a>"
      ]
    },
    {
      "cell_type": "markdown",
      "metadata": {
        "id": "uacFrEaZfcfq"
      },
      "source": [
        "##### Q1. Write a program that prompts the user to enter a password then prints the length of the password.\n",
        "\n",
        "```\n",
        "Enter your password: hello\n",
        "Your password is 5 long.\n",
        "```\n",
        "\n",
        "\n"
      ]
    },
    {
      "cell_type": "code",
      "metadata": {
        "id": "avPyES14ftCt"
      },
      "source": [
        "# Type solution here\n",
        "\n",
        "password = input(\"Enter your password: \")           #take user input\n",
        "print(\"Your password is\" , len(password) , \"long.\")"
      ],
      "execution_count": null,
      "outputs": []
    },
    {
      "cell_type": "markdown",
      "metadata": {
        "id": "behD0j_Of2TW"
      },
      "source": [
        "##### Q2. Write a program that prompts the user to enter their full name then prints the number of characters in their name (do not count spaces).\n",
        "\n",
        "```\n",
        "What is your name? Amulya Katti\n",
        "Amulya Katti your name has 11 characters.\n",
        "```"
      ]
    },
    {
      "cell_type": "code",
      "metadata": {
        "id": "XSdIRjwlhSlu"
      },
      "source": [
        "# Type solution here\n",
        "\n",
        "name = input(\"What is your name?\")              #take user input   \n",
        "print(name , \"your name has\" , (len(name) - name.count(\" \")), \"characters.\")   #print length of name - count of empty spaces"
      ],
      "execution_count": null,
      "outputs": []
    },
    {
      "cell_type": "markdown",
      "metadata": {
        "id": "5KHOWF6FhVHV"
      },
      "source": [
        "##### Q3. Write a program that prompts the user to enter a month (as a number), then prints the name of the month and the number of days in that month. Ensure that the user inputs a valid month and handle any error cases.\n",
        "\n",
        "```\n",
        "Enter the month number: 9\n",
        "September has 30 days\n",
        "```"
      ]
    },
    {
      "cell_type": "code",
      "metadata": {
        "id": "KhS-SAEThyTG"
      },
      "source": [
        "# Type solution here\n",
        "\n",
        "all_months = ['January', 'February', 'March', 'April', 'May', 'June', 'July',          #create list of months \"all_months\"\n",
        "              'August', 'September', 'October', 'November', 'December']\n",
        "days = [31, 28, 31, 30, 31, 30, 31, 31, 30, 31, 30, 31]                                #create list of days \"days\"\n",
        "\n",
        "#try WHILE loop here\n",
        "month = input(\"Enter the month number: \")                 #take user input and convert to int\n",
        "month = int(month)\n",
        "\n",
        "\n",
        "while month >= 13 or month <= 0:                          #while loop to check for error (input must be between 1 - 12)\n",
        "  print(\"Error! Pleae enter number between 1 - 12\")\n",
        "  month = input(\"Enter the month number: \")\n",
        "  month = int(month)\n",
        "\n",
        "print(all_months[month-1] , \"has\" , days[month-1] , \"days\")   #print appropriate statement with user input index in all_months list and days list (month - 1 since list indexes start at 0)"
      ],
      "execution_count": null,
      "outputs": []
    },
    {
      "cell_type": "markdown",
      "metadata": {
        "id": "O7lnAdGlh6Xa"
      },
      "source": [
        "##### Q4. Write a program that prompts the user to enter a loan amount, annual interest rate, and number of years  for a car loan. Then calculate and print the monthly payment amount.\n",
        "\n",
        "Note:\n",
        "```\n",
        "PMT= [PV*i*((1+i)^n)]/((1+i)^n)-1\n",
        "```\n",
        "PMT is the monthly payment\n",
        "\n",
        "PV is the loan amount\n",
        "\n",
        "i is the interest rate per month in decimal form (interest rate percentage divided by 12)\n",
        "\n",
        "n is the number of months (term of the loan in months)\n",
        "\n",
        "```\n",
        "Loan Amount: 30000.00\n",
        "Annual Interest Rate: 4.00\n",
        "Years: 5\n",
        "Your monthly payment is: $552.50\n",
        "```"
      ]
    },
    {
      "cell_type": "code",
      "metadata": {
        "id": "p4B5JH5GiTs9"
      },
      "source": [
        "# Type solution here\n",
        "loan = float(input(\"Enter a loan amount: \"))    #user input\n",
        "\n",
        "total_interest = float(input(\"Enter an annual interest rate: \"))\n",
        "interest = (total_interest / 12) / 100\n",
        "#convert total_interest to interest rate per month in decimal form\n",
        "\n",
        "years = float(input(\"Enter number of years for loan: \"))\n",
        "months = years * 12\n",
        "#convert years to number of months\n",
        "\n",
        "PMT = ((loan*interest)*((1+interest)**months)) / (((1+interest)**months)-1)\n",
        "#calculate monthly payments with PMT formula\n",
        "\n",
        "print(\"Loan Amount: \", round(loan, 2))\n",
        "print(\"Annual Interest Rate: \", round(total_interest, 2))\n",
        "print(\"Years: \", round(years, 2))\n",
        "print(\"Your monthly payment is: $\"+str(round(PMT, 2)))      #if str statement returns an error, try restarting runtime \n",
        "#print statement"
      ],
      "execution_count": null,
      "outputs": []
    },
    {
      "cell_type": "markdown",
      "metadata": {
        "id": "SjiolJKgiWV-"
      },
      "source": [
        "##### Q5. Write a program to that prompts the user to enter a string. Then \n",
        "\n",
        "1.   List item\n",
        "2.   List item\n",
        "\n",
        "check whether or not the string is a palindrome.\n",
        "\n",
        "```\n",
        "Enter a string: Madam\n",
        "Madam, is a palindrome!\n",
        "```"
      ]
    },
    {
      "cell_type": "code",
      "metadata": {
        "id": "u9cMdV7kno5f"
      },
      "source": [
        "#Q5 Solution Option #1\n",
        "\n",
        "str = input(\"Enter a string: \")        #user input\n",
        "\n",
        "def palindrome(str):                   #define function\n",
        "  str = str.casefold()                 #removes all case distinctions\n",
        "  if list(str) == list(reversed(str)): #if each character in the string equals the character when string is reversed, print it is a palindrome\n",
        "    print(str+\", is a palindrome!\")\n",
        "  else:\n",
        "    print(str+\", is not a palindrome! Sorry!\") #otherwise print not a palindrome\n",
        "\n",
        "palindrome(str)"
      ],
      "execution_count": null,
      "outputs": []
    },
    {
      "cell_type": "code",
      "metadata": {
        "id": "zT_uf7rnjjle"
      },
      "source": [
        "#Q5 Solution Option #2 \n",
        "\n",
        "str = input(\"Enter a string: \")   #user input\n",
        "\n",
        "def palindrome(str):              #define function\n",
        "  str = str.casefold()            #removes all case distinctions\n",
        "  if str == str[::-1]:           #if string = string when reversed, print it is a palindrome\n",
        "    print(str+\",is a palindrome!\")\n",
        "  else:\n",
        "    print(str+\", not a palindrome!\") #otherwise print not a palindrome\n",
        "  \n",
        "palindrome(str)                 #call function"
      ],
      "execution_count": null,
      "outputs": []
    },
    {
      "cell_type": "markdown",
      "metadata": {
        "id": "BLBD6n9vkJEu"
      },
      "source": [
        "##### Q6. Write a program to compute and print all possible combinations of change for \\$1. Denominations to be considered – quarter, dime, nickel, penny.\n",
        "\n",
        "Hint: Use nested loops (loops within loops for the various denominations of coins)\n",
        "\n",
        "```\n",
        "Change for $1:\n",
        "0 quarters, 0 dimes, 0 nickels, 100 pennies\n",
        "…\n",
        "4 quarters, 0 dimes, 0 nickels, 0 pennies\n",
        "```"
      ]
    },
    {
      "cell_type": "code",
      "metadata": {
        "id": "SzZgpnhipg96"
      },
      "source": [
        "total = 100                  #set total to 100 cents ($1)\n",
        "\n",
        "def change(a, b):            #define function\n",
        "  if a < b:                \n",
        "    return a\n",
        "  else:\n",
        "    return b\n",
        "\n",
        "                                                          \n",
        "for quarter in range(change(int(total / 25), 10) + 1):   \n",
        "  total2 = total - 25 * quarter                           \n",
        "  for dime in range(change(int(total2 / 10), 10) + 1):    \n",
        "    total3 = total2 - 10 * dime                           \n",
        "    for nickel in range(change(int(total3 / 5), 10) + 1):\n",
        "      penny = total3 - 5 * nickel                         \n",
        "      print(quarter, \"quarters,\", dime, \"dimes,\", nickel, \"nickels,\", penny, \"pennies\") "
      ],
      "execution_count": null,
      "outputs": []
    },
    {
      "cell_type": "markdown",
      "metadata": {
        "id": "rUPDjYiIkbgs"
      },
      "source": [
        "##### Q7. Ask the user to enter two positive integers between 1 and 100. Read those integers. Then output a multiplication table of the first number times the second number. \n",
        "\n",
        "Note: You have to ensure the entered numbers are between 1 and 100 only.\n",
        "\n",
        "```\n",
        "Please enter an integer: 5\n",
        "Please enter another integer: 20\n",
        "5 x 1 = 5\n",
        "5 x 2 = 10\n",
        "5 x 3 = 15\n",
        "…\n",
        "5 x 20 = 100\n",
        "```"
      ]
    },
    {
      "cell_type": "code",
      "metadata": {
        "id": "Qg0Orv1klHzA"
      },
      "source": [
        "# Type solution here\n",
        "\n",
        "num = int(input(\"Please enter an integer: \"))\n",
        "int_2 = int(input(\"Please enter another integer: \"))      #take two user inputs and convert to int\n",
        "\n",
        "multiply = 1\n",
        "#start multiplication table at 1\n",
        "\n",
        "while num > 100 or num < 1 or int_2 > 100 or int_2 < 1:    #while loop to check for error\n",
        "  print(\"Please pick between 1 and 100\")\n",
        "  num = int(input(\"Please enter an integer: \"))\n",
        "  int_2 = int(input(\"Please enter another integer: \")) \n",
        "\n",
        "if num < 100 or num > 1 or int_2 < 100 or int_2 > 1:                    \n",
        "  while multiply <= int_2:                                #makes sure we stop multiplying at int_2\n",
        "    print(num, \"x\", multiply, \"=\", num*multiply)          #print multiplication table\n",
        "    multiply = multiply + 1                               #increase multiply by 1 until it reaches int_2 value"
      ],
      "execution_count": null,
      "outputs": []
    },
    {
      "cell_type": "markdown",
      "metadata": {
        "id": "SbnbPUPTlLD9"
      },
      "source": [
        "##### Q8. Write a program to ask the user to enter a password. Then check to see if it is a valid password based on these requirements -\n",
        "\n",
        "Must be at least 8 characters long\n",
        "\n",
        "Must contain both uppercase and lowercase letters\n",
        "\n",
        "Must contain at least one number between 0-9\n",
        "\n",
        "Must contain a special character -!,@,#,$\n",
        "\n",
        "If the password is not valid, ask the user to re-enter. This should continue until the user enters a valid password. After a valid password is entered, print Access Granted!\n",
        "\n",
        "```\n",
        "Please enter a password. Follow these requirements - \n",
        "a. Must be at least 8 characters long\n",
        "b. Must contain both uppercase and lowercase letters\n",
        "c. Must contain at least one number between 0-9\n",
        "d. Must contain a special character -!,@,#,$\n",
        "Password: HelloWorld1\n",
        "Invalid password. Try again!\n",
        "Password: Hello@World1\n",
        "Access Granted!\n",
        "```\n"
      ]
    },
    {
      "cell_type": "code",
      "metadata": {
        "id": "wbMF0dcSJTIh"
      },
      "source": [
        "password = input(\"Please enter a password. Follow these requirements - \\n a. Must be at least 8 characters long \\n b. Must contain both uppercase and lowercase letters \\n c. Must contain at least one number between 0-9 \\n d. Must contain a special character -!,@,#,$\")\n",
        "\n",
        "#define function\n",
        "def check(password): \n",
        "  password_list = list(password) #create password list\n",
        "\n",
        "  #check if password contains digit between 0-9\n",
        "  number = False\n",
        "  for x in password_list:\n",
        "    if x.isdigit():\n",
        "      if int(x) in range(0,10):\n",
        "        number = True\n",
        "  \n",
        "  #check if password contains character from characters list\n",
        "  character = False\n",
        "  characters = ['!', '@', '#', '$']\n",
        "  for x in password_list:\n",
        "    if x in characters:\n",
        "      character = True\n",
        "    \n",
        "  #check if password contains upper and lower case letters\n",
        "  lower = False\n",
        "  upper = False\n",
        "  for x in password_list:\n",
        "    if x.islower():\n",
        "      lower = True\n",
        "    if x.isupper():\n",
        "      upper = True\n",
        "\n",
        "  #check if password is at least 8 characes long and above requirements return True\n",
        "  if len(password) >= 8 and number and character and lower and upper:\n",
        "    return True\n",
        "  else:\n",
        "    return False\n",
        "\n",
        "#error: if any of the above return False, user will input a new password\n",
        "while check(password) == False:\n",
        "  password = input(\"Please enter a password. Follow these requirements - \\n a. Must be at least 8 characters long \\n b. Must contain both uppercase and lowercase letters \\n c. Must contain at least one number between 0-9 \\n d. Must contain a special character -!,@,#,$\")\n",
        "\n",
        "print(\"Access granted!\")"
      ],
      "execution_count": null,
      "outputs": []
    },
    {
      "cell_type": "markdown",
      "metadata": {
        "id": "-0sdutTDnTKA"
      },
      "source": [
        "##### Q9. Given the score sheet of participants in a competition, you are required to find the runner-up score. You are given scores in a list. Find the score of the runner-up.\n",
        "\n",
        "```\n",
        "list1 - [2, 3, 6, 6, 5]\n",
        "runner_up - 5\n",
        "\n",
        "list2 - [1, 7, 5, 3, 10, 4, 5, 5, 6, 11]\n",
        "runner_up - 10\n",
        "```"
      ]
    },
    {
      "cell_type": "code",
      "metadata": {
        "id": "12YP9OaqpGRK",
        "colab": {
          "base_uri": "https://localhost:8080/"
        },
        "outputId": "c7d45439-36ca-4979-9488-5618b337c534"
      },
      "source": [
        "# Type solution here\n",
        "\n",
        "list1 = [2, 3, 6, 6, 5]\n",
        "list2 = [1, 7, 5, 3, 10, 4, 5, 5, 6, 11]\n",
        "list1.sort()\n",
        "list2.sort()                             #create and sort lists in ascending order\n",
        "\n",
        "runner_up = []                           #create runner_up lists for list1 and list2\n",
        "for i in list1:\n",
        "  if i not in runner_up:\n",
        "    runner_up.append(i)                  #add unique values in list1 to runner_up list\n",
        "print(\"runner_up - \", runner_up[-2])     #print second highest score (runner up) at index -2\n",
        "\n",
        "runner_up2 = []\n",
        "for i in list2:\n",
        "  if i not in runner_up2:\n",
        "    runner_up2.append(i)                 #add unique values in list2 to runner_up2 list\n",
        "print(\"runner_up - \", runner_up2[-2])    #print second highest score (runner up) at index -2"
      ],
      "execution_count": null,
      "outputs": [
        {
          "output_type": "stream",
          "text": [
            "runner_up -  5\n",
            "runner_up -  10\n"
          ],
          "name": "stdout"
        }
      ]
    }
  ]
}