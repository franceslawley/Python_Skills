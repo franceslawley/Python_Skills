{
  "nbformat": 4,
  "nbformat_minor": 0,
  "metadata": {
    "colab": {
      "name": "2. Pandas and Numpy Packages.ipynb",
      "provenance": [],
      "collapsed_sections": [],
      "include_colab_link": true
    },
    "kernelspec": {
      "name": "python3",
      "display_name": "Python 3"
    }
  },
  "cells": [
    {
      "cell_type": "markdown",
      "metadata": {
        "id": "view-in-github",
        "colab_type": "text"
      },
      "source": [
        "<a href=\"https://colab.research.google.com/github/franceslawley/Python_Skills/blob/main/2_Pandas_and_Numpy_Packages.ipynb\" target=\"_parent\"><img src=\"https://colab.research.google.com/assets/colab-badge.svg\" alt=\"Open In Colab\"/></a>"
      ]
    },
    {
      "cell_type": "markdown",
      "metadata": {
        "id": "U3Yz3s2uio1F"
      },
      "source": [
        "**Q1. Lets consider your data is like the below cell:**\n",
        "\n",
        "**Q1-1**: Write a program that create a dataframe from the data.\n",
        "\n",
        "**Q1-2:** Select people that are psychologist or teacher and their number of cars is greater than their family size.\n",
        "\n",
        "**Q1-3:** Select people who have at most 2 family members and at least 1 car.\n",
        "\n",
        "**Q1-4:** Write a code that get number of unique jobs in this dataset.\n",
        "\n",
        "\n",
        "\n"
      ]
    },
    {
      "cell_type": "code",
      "metadata": {
        "id": "yR8lcOtcjxXD",
        "colab": {
          "base_uri": "https://localhost:8080/"
        },
        "outputId": "df0cf59b-4d28-41c8-d5f9-e8e0ac420bf3"
      },
      "source": [
        "import pandas as pd\n",
        "import numpy as np\n",
        "\n",
        "data = {\"name\": [\"Joseph\", \"Jacob\", \"Sam\", \"Jesee\", \"Ryan\", \"Lisa\", \"Lee\"],\n",
        "        \"job\": [\"teacher\", \"psychologist\", \"data scientist\", \"software developer\", \"psychologist\", \"psychologist\", \"teacher\"],\n",
        "        \"family_size\": [3, 2, 1, 4, 2, 3, 2],\n",
        "        \"num_cars\": [2, 1, 1, 2, 2, 4, 1]}\n",
        "\n",
        "#Q1-1: create dataframe from data (used pandas because multiple data types)\n",
        "dataframe = pd.DataFrame(data, columns = ['name', 'job', 'family_size', 'num_cars'])\n",
        "print(dataframe)"
      ],
      "execution_count": null,
      "outputs": [
        {
          "output_type": "stream",
          "text": [
            "     name                 job  family_size  num_cars\n",
            "0  Joseph             teacher            3         2\n",
            "1   Jacob        psychologist            2         1\n",
            "2     Sam      data scientist            1         1\n",
            "3   Jesee  software developer            4         2\n",
            "4    Ryan        psychologist            2         2\n",
            "5    Lisa        psychologist            3         4\n",
            "6     Lee             teacher            2         1\n"
          ],
          "name": "stdout"
        }
      ]
    },
    {
      "cell_type": "code",
      "metadata": {
        "colab": {
          "base_uri": "https://localhost:8080/",
          "height": 76
        },
        "id": "E3oldjwoj88A",
        "outputId": "4cdb0bfa-455d-469c-e98c-e9cad75f3dfe"
      },
      "source": [
        "#Q1-2: select psychologists or teachers and number of cars > family size\n",
        "dataframe[(np.logical_or(dataframe.job=='psychologist', dataframe.job=='teacher'))&(dataframe.num_cars > dataframe.family_size)]"
      ],
      "execution_count": null,
      "outputs": [
        {
          "output_type": "execute_result",
          "data": {
            "text/html": [
              "<div>\n",
              "<style scoped>\n",
              "    .dataframe tbody tr th:only-of-type {\n",
              "        vertical-align: middle;\n",
              "    }\n",
              "\n",
              "    .dataframe tbody tr th {\n",
              "        vertical-align: top;\n",
              "    }\n",
              "\n",
              "    .dataframe thead th {\n",
              "        text-align: right;\n",
              "    }\n",
              "</style>\n",
              "<table border=\"1\" class=\"dataframe\">\n",
              "  <thead>\n",
              "    <tr style=\"text-align: right;\">\n",
              "      <th></th>\n",
              "      <th>name</th>\n",
              "      <th>job</th>\n",
              "      <th>family_size</th>\n",
              "      <th>num_cars</th>\n",
              "    </tr>\n",
              "  </thead>\n",
              "  <tbody>\n",
              "    <tr>\n",
              "      <th>5</th>\n",
              "      <td>Lisa</td>\n",
              "      <td>psychologist</td>\n",
              "      <td>3</td>\n",
              "      <td>4</td>\n",
              "    </tr>\n",
              "  </tbody>\n",
              "</table>\n",
              "</div>"
            ],
            "text/plain": [
              "   name           job  family_size  num_cars\n",
              "5  Lisa  psychologist            3         4"
            ]
          },
          "metadata": {
            "tags": []
          },
          "execution_count": 3
        }
      ]
    },
    {
      "cell_type": "code",
      "metadata": {
        "colab": {
          "base_uri": "https://localhost:8080/"
        },
        "id": "GfjekajWj9I0",
        "outputId": "c55f0925-f077-4aec-b954-dd9acedde6ef"
      },
      "source": [
        "#Q1-3:  Select people who have at most 2 family members and at least 1 car\n",
        "print(dataframe[(dataframe.family_size<=2) & (dataframe.num_cars>=1)])"
      ],
      "execution_count": null,
      "outputs": [
        {
          "output_type": "stream",
          "text": [
            "    name             job  family_size  num_cars\n",
            "1  Jacob    psychologist            2         1\n",
            "2    Sam  data scientist            1         1\n",
            "4   Ryan    psychologist            2         2\n",
            "6    Lee         teacher            2         1\n"
          ],
          "name": "stdout"
        }
      ]
    },
    {
      "cell_type": "code",
      "metadata": {
        "colab": {
          "base_uri": "https://localhost:8080/"
        },
        "id": "HbkXnEsvj9Rj",
        "outputId": "2afe66a0-5e9b-4c4c-8844-305b08a10583"
      },
      "source": [
        "#Q1-4: Write a code that get number of unique jobs in this dataset.\n",
        "print(dataframe['job'].unique())"
      ],
      "execution_count": null,
      "outputs": [
        {
          "output_type": "stream",
          "text": [
            "['teacher' 'psychologist' 'data scientist' 'software developer']\n"
          ],
          "name": "stdout"
        }
      ]
    },
    {
      "cell_type": "markdown",
      "metadata": {
        "id": "Ow6nG8k4l91X"
      },
      "source": [
        "**Q2. Lets consider you have two series like the below cell. Compute the mean of weights of each fruit.**"
      ]
    },
    {
      "cell_type": "code",
      "metadata": {
        "id": "u-X_DoOzVLLB"
      },
      "source": [
        "import numpy as np\n",
        "import pandas as pd\n",
        "fruit = pd.Series(np.random.choice(['apple', 'banana', 'carrot'], 10))\n",
        "print(fruit)\n",
        "\n",
        "weights = pd.Series(np.linspace(1, 10, 10)) #Linspace is used to create an evenly spaced sequence in a specified interval\n",
        "print(weights)\n",
        "\n",
        "data = {\"fruit\":fruit, \"weights\":weights} #put data into dictionary \n",
        "#series = pd.concat([fruit,weights],axis=1)\n",
        "series = pd.concat(data, axis = 1) #arrange data into dataframe\n",
        "print(series)"
      ],
      "execution_count": null,
      "outputs": []
    },
    {
      "cell_type": "code",
      "metadata": {
        "id": "8G93uZnQ16bS"
      },
      "source": [
        "series = pd.concat([fruit,weights],axis=1)\n",
        "print(series)"
      ],
      "execution_count": null,
      "outputs": []
    },
    {
      "cell_type": "code",
      "metadata": {
        "id": "S419nzYnpU__",
        "colab": {
          "base_uri": "https://localhost:8080/"
        },
        "outputId": "0a69c683-eb9d-4e83-d247-10695aa30bba"
      },
      "source": [
        "# Type your solution here\n",
        "\n",
        "print(\"Apple Average:\", np.mean(weights[series.fruit =='apple']))\n",
        "print(\"Banana Average:\",np.mean(weights[series.fruit =='banana']))\n",
        "print(\"Carrot Average:\",np.mean(weights[series.fruit =='carrot']))"
      ],
      "execution_count": null,
      "outputs": [
        {
          "output_type": "stream",
          "text": [
            "Apple Average: 3.0\n",
            "Banana Average: 4.0\n",
            "Carrot Average: 7.2\n"
          ],
          "name": "stdout"
        }
      ]
    },
    {
      "cell_type": "markdown",
      "metadata": {
        "id": "g4lKaPIhtVrt"
      },
      "source": [
        "**Q3. Consider the below course_name array:**\n",
        "\n",
        "**Q3-1**: Write a NumPy program to get the indices of the sorted elements of **course_name** array.\n",
        "\n",
        "**Q3-2:** Write numpy code to check whether each element of **course_name** array starts with \"P\".\n"
      ]
    },
    {
      "cell_type": "code",
      "metadata": {
        "id": "RUP_jp2KtVrx",
        "colab": {
          "base_uri": "https://localhost:8080/"
        },
        "outputId": "61d7dabb-aaf3-4b49-e32d-4d48bc7fd31a"
      },
      "source": [
        "import numpy as np\n",
        "course_name = np.array(['Python', 'JS', 'examples', 'PHP', 'html'])\n",
        "sorted = np.sort(course_name) #sort in alphabetical order\n",
        "print(sorted)"
      ],
      "execution_count": null,
      "outputs": [
        {
          "output_type": "stream",
          "text": [
            "['JS' 'PHP' 'Python' 'examples' 'html']\n"
          ],
          "name": "stdout"
        }
      ]
    },
    {
      "cell_type": "code",
      "metadata": {
        "colab": {
          "base_uri": "https://localhost:8080/"
        },
        "id": "OR0CJyUvpza_",
        "outputId": "b16f8f05-ef9a-44fd-c7e3-baa612ad142c"
      },
      "source": [
        "#Q3-1\n",
        "print(course_name.argsort()) #indexes \n",
        "\n",
        "#print(sorted.argsort()) #indexes with sorted list by alphabetical order"
      ],
      "execution_count": null,
      "outputs": [
        {
          "output_type": "stream",
          "text": [
            "[1 3 0 2 4]\n"
          ],
          "name": "stdout"
        }
      ]
    },
    {
      "cell_type": "code",
      "metadata": {
        "colab": {
          "base_uri": "https://localhost:8080/"
        },
        "id": "vL7TR3YOpzkm",
        "outputId": "c0cc7a72-5bf2-40df-9d93-613a931eac82"
      },
      "source": [
        "#Q3-2\n",
        "for element in sorted:\n",
        "  if element[:][0] == 'P': #if the first letter in each element =='P'\n",
        "    print(element, \"starts with a P!\")\n",
        "  else:\n",
        "    print(element, \"doesn't start with P!\")"
      ],
      "execution_count": null,
      "outputs": [
        {
          "output_type": "stream",
          "text": [
            "JS doesn't start with P!\n",
            "PHP starts with a P!\n",
            "Python starts with a P!\n",
            "examples doesn't start with P!\n",
            "html doesn't start with P!\n"
          ],
          "name": "stdout"
        }
      ]
    },
    {
      "cell_type": "markdown",
      "metadata": {
        "id": "sUFItNFOxwkz"
      },
      "source": [
        "**Q4. Consider the below student_id array:**\n",
        "\n",
        "**Q4-1:** Reverse the **student_id** array. Print both original and reversed array.\n",
        "\n",
        "**Q4-2:** Get the 3-largest values of **student_id** array."
      ]
    },
    {
      "cell_type": "code",
      "metadata": {
        "id": "Rl5qzEjFv0nw",
        "colab": {
          "base_uri": "https://localhost:8080/"
        },
        "outputId": "d3040205-9c14-4308-8123-4f7e4670b465"
      },
      "source": [
        "import numpy as np\n",
        "student_id = np.array([1023, 5202, 6230, 1671, 1682, 5241, 4532])\n",
        "\n",
        "#Q4-1\n",
        "print(student_id) #original\n",
        "print(student_id[::-1]) #reversed\n",
        "\n",
        "#Q4-2\n",
        "sorted = np.sort(student_id) #sort\n",
        "print(sorted[::-1][0:3]) #select top 3 largest values (first 3 values in descending sorted array)"
      ],
      "execution_count": null,
      "outputs": [
        {
          "output_type": "stream",
          "text": [
            "[1023 5202 6230 1671 1682 5241 4532]\n",
            "[4532 5241 1682 1671 6230 5202 1023]\n",
            "[6230 5241 5202]\n"
          ],
          "name": "stdout"
        }
      ]
    },
    {
      "cell_type": "code",
      "metadata": {
        "id": "6-fb6IfF3Izj"
      },
      "source": [
        "#Q4-2\n",
        "sorted = np.sort(student_id) #sort\n",
        "print(sorted[::-1][0:3]) #select top 3 largest values (first 3 values in descending sorted array)"
      ],
      "execution_count": null,
      "outputs": []
    },
    {
      "cell_type": "markdown",
      "metadata": {
        "id": "uKRyDVuW6B19"
      },
      "source": [
        "**Q5: Write a numpy program to print sum of all the multiples of 3 or 5 below \n",
        "\n",
        "---\n",
        "\n",
        "100**"
      ]
    },
    {
      "cell_type": "code",
      "metadata": {
        "id": "ZIixq1gz6OK3"
      },
      "source": [
        "def multiple():\n",
        "\n",
        "  multiples =[]\n",
        "  sum = 0\n",
        "  value_list = list(range(1,100)) #create range of numbers 0 - 100\n",
        "  print(value_list)\n",
        "\n",
        "  for e in value_list:\n",
        "    if e % 3 == 0 or e % 5 == 0: #if number is divisable by 3 or 5 (multiple)\n",
        "      multiples.append(e)        \n",
        "      sum = sum + e              \n",
        "  print(sum)                     \n",
        "  print(multiples)              \n",
        "\n",
        "multiple() #this is correct!"
      ],
      "execution_count": null,
      "outputs": []
    },
    {
      "cell_type": "markdown",
      "metadata": {
        "id": "2CWJOsP24c34"
      },
      "source": [
        "**Q6. Consider the below array.**\n",
        "\n",
        "Q6.1. Write a code to swap column 1 with column 2.\n",
        "\n",
        "Q6.2. Write a code to swap row 0 with row 1."
      ]
    },
    {
      "cell_type": "code",
      "metadata": {
        "id": "3OG6X5Eg5KSM",
        "colab": {
          "base_uri": "https://localhost:8080/"
        },
        "outputId": "047ec6b8-0d28-4a7a-d01a-668947c9dce5"
      },
      "source": [
        "import numpy as np\n",
        "\n",
        "arr = np.arange(12).reshape(3,4) #creates n dimensional array \n",
        "print(arr)\n",
        "\n",
        "#Q6-1\n",
        "arr[:, [0,1]] = arr[:, [1,0]]\n",
        "print(arr)"
      ],
      "execution_count": null,
      "outputs": [
        {
          "output_type": "stream",
          "text": [
            "[[ 0  1  2  3]\n",
            " [ 4  5  6  7]\n",
            " [ 8  9 10 11]]\n",
            "[[ 1  0  2  3]\n",
            " [ 5  4  6  7]\n",
            " [ 9  8 10 11]]\n"
          ],
          "name": "stdout"
        }
      ]
    },
    {
      "cell_type": "code",
      "metadata": {
        "colab": {
          "base_uri": "https://localhost:8080/"
        },
        "id": "wulewmGu4cW1",
        "outputId": "1821c8cd-3ea8-47db-a1c3-aec0e10d2e95"
      },
      "source": [
        "#Q6-2\n",
        "#arr = np.arange(12).reshape(3,4) #creates n dimensional array \n",
        "arr[[0,1], :] = arr[[1,0], :]\n",
        "print(arr)"
      ],
      "execution_count": null,
      "outputs": [
        {
          "output_type": "stream",
          "text": [
            "[[ 5  4  6  7]\n",
            " [ 1  0  2  3]\n",
            " [ 9  8 10 11]]\n"
          ],
          "name": "stdout"
        }
      ]
    }
  ]
}