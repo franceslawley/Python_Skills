{
  "nbformat": 4,
  "nbformat_minor": 0,
  "metadata": {
    "colab": {
      "name": "7. Ensemble Methods.ipynb",
      "provenance": [],
      "collapsed_sections": [
        "7DvQpJcMXRd0",
        "UDtpJLrCXdj-",
        "uaUqMhEPYqSF",
        "TC9xxX-MaJiJ"
      ],
      "include_colab_link": true
    },
    "kernelspec": {
      "name": "python3",
      "display_name": "Python 3"
    },
    "language_info": {
      "name": "python"
    }
  },
  "cells": [
    {
      "cell_type": "markdown",
      "metadata": {
        "id": "view-in-github",
        "colab_type": "text"
      },
      "source": [
        "<a href=\"https://colab.research.google.com/github/franceslawley/Python_Skills/blob/main/7_Ensemble_Methods.ipynb\" target=\"_parent\"><img src=\"https://colab.research.google.com/assets/colab-badge.svg\" alt=\"Open In Colab\"/></a>"
      ]
    },
    {
      "cell_type": "markdown",
      "metadata": {
        "id": "YEBNn7WNVVH9"
      },
      "source": [
        "The datasets used in this homework can be found in the google drive link below -\n",
        "\n",
        "https://drive.google.com/drive/folders/1NxCh4X7u7wVo5aHojxjLNs9wC7B7zJhb?usp=sharing\n"
      ]
    },
    {
      "cell_type": "markdown",
      "metadata": {
        "id": "XNkmD9GdVx37"
      },
      "source": [
        "Import all the libraries you require in the cell below.\n"
      ]
    },
    {
      "cell_type": "code",
      "metadata": {
        "id": "O38dWgFrTt9g"
      },
      "source": [
        "import pandas as pd\n",
        "import numpy as np\n",
        "from sklearn.impute import SimpleImputer\n",
        "from sklearn.preprocessing import MinMaxScaler\n",
        "import xgboost as xgb\n",
        "from sklearn.metrics import mean_squared_error\n",
        "from sklearn.model_selection import train_test_split\n",
        "import seaborn as sns"
      ],
      "execution_count": null,
      "outputs": []
    },
    {
      "cell_type": "markdown",
      "metadata": {
        "id": "HggTkCZoWOSE"
      },
      "source": [
        "## Implement the Ensemble methods learnt in class and compare their accuarcies."
      ]
    },
    {
      "cell_type": "markdown",
      "metadata": {
        "id": "g-eAjVVDV_Nm"
      },
      "source": [
        "The dataset you are going to be using for homework is the **Wisconsin Breast Cancer dataset (cancer.csv)**\n",
        "\n",
        "The dataset contains a total number of 10 features labeled in either benign or malignant classes. The features have 699 instances out of which 16 feature values are missing. The dataset only contains numeric values.\n",
        "\n",
        "Attribute Information:\n",
        "\n",
        "1. Sample code number: id number\n",
        "2. Clump Thickness: 1 - 10\n",
        "3. Uniformity of Cell Size: 1 - 10\n",
        "4. Uniformity of Cell Shape: 1 - 10\n",
        "5. Marginal Adhesion: 1 - 10\n",
        "6. Single Epithelial Cell Size: 1 - 10\n",
        "7. Bare Nuclei: 1 - 10\n",
        "8. Bland Chromatin: 1 - 10\n",
        "9. Normal Nucleoli: 1 - 10\n",
        "10. Mitoses: 1 - 10\n",
        "11. Class: (2 for benign, 4 for malignant) (**target variable**)\n",
        "\n",
        "For more information: https://archive.ics.uci.edu/ml/datasets/breast+cancer+wisconsin+(original)"
      ]
    },
    {
      "cell_type": "markdown",
      "metadata": {
        "id": "g3iLZY-gXhVH"
      },
      "source": [
        "### 1. Read the dataset into variable called '**data**' (1 mark)"
      ]
    },
    {
      "cell_type": "code",
      "metadata": {
        "id": "U2II5L3AXn2A",
        "colab": {
          "base_uri": "https://localhost:8080/"
        },
        "outputId": "5cb22a5f-4d8c-48c2-9166-82453f00e9ac"
      },
      "source": [
        "# Enter your code here\n",
        "\n",
        "pd.set_option('display.max_columns', 100)\n",
        "data = pd.read_csv('cancer.csv')\n",
        "print(data.info())"
      ],
      "execution_count": null,
      "outputs": [
        {
          "output_type": "stream",
          "text": [
            "<class 'pandas.core.frame.DataFrame'>\n",
            "RangeIndex: 699 entries, 0 to 698\n",
            "Data columns (total 11 columns):\n",
            " #   Column                       Non-Null Count  Dtype \n",
            "---  ------                       --------------  ----- \n",
            " 0   Sample Code Number           699 non-null    int64 \n",
            " 1   Clump Thickness              699 non-null    int64 \n",
            " 2   Uniformity of Cell Size      699 non-null    int64 \n",
            " 3   Uniformity of Cell Shape     699 non-null    int64 \n",
            " 4   Marginal Adhesion            699 non-null    int64 \n",
            " 5   Single Epithelial Cell Size  699 non-null    int64 \n",
            " 6   Bland Chromatin              699 non-null    object\n",
            " 7   Bare Nuclei                  699 non-null    int64 \n",
            " 8   Normal Nucleoli              699 non-null    int64 \n",
            " 9   Mitosis                      699 non-null    int64 \n",
            " 10  Class                        699 non-null    int64 \n",
            "dtypes: int64(10), object(1)\n",
            "memory usage: 60.2+ KB\n",
            "None\n"
          ],
          "name": "stdout"
        }
      ]
    },
    {
      "cell_type": "markdown",
      "metadata": {
        "id": "7DvQpJcMXRd0"
      },
      "source": [
        "### **Preprocessing**: Data needs to be preprocessed before implementing ensemble methods. It is done for you here. \n",
        "### Run the below code first and then answer the questions from 2 - 7."
      ]
    },
    {
      "cell_type": "markdown",
      "metadata": {
        "id": "UDtpJLrCXdj-"
      },
      "source": [
        "#### Deleting unnecessary columns: The column \"Sample code number\" is just an indicator and it's of no use in the modeling. So, let's drop it:\n"
      ]
    },
    {
      "cell_type": "code",
      "metadata": {
        "id": "3bbOI9AYTziJ"
      },
      "source": [
        "data.drop(['Sample Code Number'],axis = 1, inplace = True)"
      ],
      "execution_count": null,
      "outputs": []
    },
    {
      "cell_type": "markdown",
      "metadata": {
        "id": "uaUqMhEPYqSF"
      },
      "source": [
        "#### Handling missing values : \n",
        "As mentioned earlier, the dataset contains missing values. The column named \"Bare Nuclei\" contains them. The missing values are represneted as \"?\". \n",
        "\n",
        "Replace those \"?\"s with 0's and impute them with Mean Imputation"
      ]
    },
    {
      "cell_type": "code",
      "metadata": {
        "id": "cHu_DIDcZs_8",
        "colab": {
          "base_uri": "https://localhost:8080/",
          "height": 63
        },
        "outputId": "53e4360b-2177-4e1b-86d5-aeae2b7d8054"
      },
      "source": [
        "data['Bare Nuclei']\n",
        "\n",
        "data[data['Bare Nuclei']=='?']"
      ],
      "execution_count": null,
      "outputs": [
        {
          "output_type": "execute_result",
          "data": {
            "text/html": [
              "<div>\n",
              "<style scoped>\n",
              "    .dataframe tbody tr th:only-of-type {\n",
              "        vertical-align: middle;\n",
              "    }\n",
              "\n",
              "    .dataframe tbody tr th {\n",
              "        vertical-align: top;\n",
              "    }\n",
              "\n",
              "    .dataframe thead th {\n",
              "        text-align: right;\n",
              "    }\n",
              "</style>\n",
              "<table border=\"1\" class=\"dataframe\">\n",
              "  <thead>\n",
              "    <tr style=\"text-align: right;\">\n",
              "      <th></th>\n",
              "      <th>Clump Thickness</th>\n",
              "      <th>Uniformity of Cell Size</th>\n",
              "      <th>Uniformity of Cell Shape</th>\n",
              "      <th>Marginal Adhesion</th>\n",
              "      <th>Single Epithelial Cell Size</th>\n",
              "      <th>Bland Chromatin</th>\n",
              "      <th>Bare Nuclei</th>\n",
              "      <th>Normal Nucleoli</th>\n",
              "      <th>Mitosis</th>\n",
              "      <th>Class</th>\n",
              "    </tr>\n",
              "  </thead>\n",
              "  <tbody>\n",
              "  </tbody>\n",
              "</table>\n",
              "</div>"
            ],
            "text/plain": [
              "Empty DataFrame\n",
              "Columns: [Clump Thickness, Uniformity of Cell Size , Uniformity of Cell Shape, Marginal Adhesion, Single Epithelial Cell Size, Bland Chromatin, Bare Nuclei, Normal Nucleoli, Mitosis, Class]\n",
              "Index: []"
            ]
          },
          "metadata": {
            "tags": []
          },
          "execution_count": 58
        }
      ]
    },
    {
      "cell_type": "code",
      "metadata": {
        "id": "u_5GSsVjU930"
      },
      "source": [
        "data.replace('?',0, inplace=True)"
      ],
      "execution_count": null,
      "outputs": []
    },
    {
      "cell_type": "code",
      "metadata": {
        "id": "LV3PVQB0U_mF"
      },
      "source": [
        "# Convert the DataFrame object into NumPy array otherwise you will not be able to impute\n",
        "values = data.values\n",
        "#print(data)\n",
        "#print(data.values)\n",
        "\n",
        "# Now impute it\n",
        "imputer = SimpleImputer(missing_values=np.nan, strategy='mean')\n",
        "imputedData = imputer.fit_transform(values)"
      ],
      "execution_count": null,
      "outputs": []
    },
    {
      "cell_type": "markdown",
      "metadata": {
        "id": "TC9xxX-MaJiJ"
      },
      "source": [
        "#### Normalizing the data:\n",
        "Ranges of the features of the dataset are not the same. This may cause a problem. A small change in a feature might not affect the other. To address this problem, normalize the ranges of the features to a uniform range, in this case, 0 - 1."
      ]
    },
    {
      "cell_type": "code",
      "metadata": {
        "id": "VomHojxET85c"
      },
      "source": [
        "scaler = MinMaxScaler(feature_range=(0, 1))\n",
        "normalizedData = scaler.fit_transform(imputedData)\n",
        "cols = ['Clump Thickness', 'Uniformity of Cell Size', 'Uniformity of Cell Shape', 'Marginal Adhesion', 'Single Epithelial Cell Size', 'Bland Chromatin', 'Bare Nuclei', 'Normal Nucleoli', 'Mitosis','Class']\n",
        "normalizedData = pd.DataFrame(normalizedData, columns=cols)\n",
        "#print(normalizedData.head())"
      ],
      "execution_count": null,
      "outputs": []
    },
    {
      "cell_type": "markdown",
      "metadata": {
        "id": "Sb2YjZckaZ2-"
      },
      "source": [
        "### Data preprocessing is done and now you will answer the below questions using the **normalizedData**: "
      ]
    },
    {
      "cell_type": "markdown",
      "metadata": {
        "id": "Cq2ChemrbDz2"
      },
      "source": [
        "### 2. Split the data into test and training data with test size - 30%. Compute the baseline classification accuracy for X_train. (3 marks)"
      ]
    },
    {
      "cell_type": "code",
      "metadata": {
        "id": "gOshE9K_UA5S",
        "colab": {
          "base_uri": "https://localhost:8080/"
        },
        "outputId": "d14a336b-bcdb-497f-ffd7-4c9f60070957"
      },
      "source": [
        "# Enter your code here\n",
        "\n",
        "X = normalizedData.iloc[:, 0:-1]\n",
        "y = normalizedData.iloc[:,-1]\n",
        "\n",
        "X_train, X_test, y_train, y_test = train_test_split(X, y, test_size=0.3, stratify=y)\n",
        "print(X_train.shape)\n",
        "print(y_train.shape)\n",
        "\n",
        "\n",
        "from sklearn.dummy import DummyClassifier\n",
        "dummy_classifier = DummyClassifier(strategy='most_frequent')\n",
        "dummy_classifier.fit(X_train,y_train)\n",
        "baseline_acc = dummy_classifier.score(X_test,y_test)\n",
        "print(\"Baseline Accuracy = \", baseline_acc)"
      ],
      "execution_count": null,
      "outputs": [
        {
          "output_type": "stream",
          "text": [
            "(489, 9)\n",
            "(489,)\n",
            "Baseline Accuracy =  0.6571428571428571\n"
          ],
          "name": "stdout"
        }
      ]
    },
    {
      "cell_type": "markdown",
      "metadata": {
        "id": "J3RUF9RvgA-N"
      },
      "source": [
        "### 3.  Bagging : Build a generic Bagging ensemble and print the accuracy (4 marks)\n",
        "---\n",
        "\n",
        "\n",
        "Hyperparameters:\n",
        "\n",
        "Base estimator = DecisionTreeClassifier\n",
        "\n",
        "n_estimators = 10\n",
        "\n",
        "random_state = 42\n",
        "\n",
        "---\n"
      ]
    },
    {
      "cell_type": "code",
      "metadata": {
        "id": "C78-znrIUDcs",
        "colab": {
          "base_uri": "https://localhost:8080/"
        },
        "outputId": "46b8b8ba-dbb3-43d7-b879-f89787aac598"
      },
      "source": [
        "# Generic Bagging model\n",
        "\n",
        "from sklearn.ensemble import BaggingClassifier\n",
        "from sklearn.tree import DecisionTreeClassifier\n",
        "from sklearn.metrics import accuracy_score\n",
        "\n",
        "bagged_model = BaggingClassifier(base_estimator = DecisionTreeClassifier(), n_estimators = 10, random_state = 42)\n",
        "bagged_model.fit(X_train, y_train)\n",
        "pred_bagged = bagged_model.predict(X_test)\n",
        "acc_bagged = accuracy_score(y_test, pred_bagged)\n",
        "print('Bagging Accuracy = ', acc_bagged)"
      ],
      "execution_count": null,
      "outputs": [
        {
          "output_type": "stream",
          "text": [
            "Bagging Accuracy =  0.9476190476190476\n"
          ],
          "name": "stdout"
        }
      ]
    },
    {
      "cell_type": "markdown",
      "metadata": {
        "id": "mlupszlqg6El"
      },
      "source": [
        "### 4. RandomForest : (7 marks)\n",
        "#### a) Build a Random Forest model and print the accuracy (4 marks)\n",
        "---\n",
        "\n",
        "Constructor arguments: \n",
        "\n",
        "\n",
        "n_estimators = 100, max_features = 7 and random_state = 42 \n",
        "\n",
        "\n",
        "---\n",
        "\n",
        "\n"
      ]
    },
    {
      "cell_type": "code",
      "metadata": {
        "colab": {
          "base_uri": "https://localhost:8080/"
        },
        "id": "TagawD02hKlF",
        "outputId": "2baf8a97-d18a-4290-cb27-65a27ae8e927"
      },
      "source": [
        "# Random Forest model\n",
        "\n",
        "from sklearn.ensemble import RandomForestClassifier\n",
        "\n",
        "randomforest_model = RandomForestClassifier(n_estimators=100, max_features=7, random_state=42)\n",
        "randomforest_model.fit(X_train, y_train)\n",
        "pred_randomforest = randomforest_model.predict(X_test)\n",
        "acc_randomforest = accuracy_score(y_test, pred_randomforest)\n",
        "print('Random Forest Accuracy = ', acc_randomforest)"
      ],
      "execution_count": null,
      "outputs": [
        {
          "output_type": "stream",
          "text": [
            "Random Forest Accuracy =  0.9523809523809523\n"
          ],
          "name": "stdout"
        }
      ]
    },
    {
      "cell_type": "markdown",
      "metadata": {
        "id": "48iH9eV8xkbE"
      },
      "source": [
        "####  b) Calculate the top 3 important features for the above **RandomForest** model and print them (3 marks)"
      ]
    },
    {
      "cell_type": "code",
      "metadata": {
        "id": "M469DqsQxlFN",
        "colab": {
          "base_uri": "https://localhost:8080/"
        },
        "outputId": "25b8ee7a-eef9-4123-8cad-676a803ef268"
      },
      "source": [
        "# Top 3 features for RandomForest\n",
        "\n",
        "imp = pd.DataFrame(zip(X_train.columns, randomforest_model.feature_importances_))\n",
        "sorted = imp.sort_values(by = 1, ascending = False)\n",
        "print('Top three most important features are:', sorted[0:3])"
      ],
      "execution_count": null,
      "outputs": [
        {
          "output_type": "stream",
          "text": [
            "Top three most important features are:                           0         1\n",
            "1   Uniformity of Cell Size  0.428607\n",
            "2  Uniformity of Cell Shape  0.263046\n",
            "5           Bland Chromatin  0.097426\n"
          ],
          "name": "stdout"
        }
      ]
    },
    {
      "cell_type": "markdown",
      "metadata": {
        "id": "rnrkSasYh6gF"
      },
      "source": [
        "### 5. Boosting: (7 marks)\n",
        "#### a) Build an AdaBoost model with training data and print the accuracy (4 marks)\n",
        "---\n",
        "\n",
        "Hyperparameters:\n",
        "\n",
        "Base estimator = DecisionTreeClassifier, max_depth = 4\n",
        "\n",
        "n_estimators = 200\n",
        "\n",
        "random_state = 42\n",
        "\n",
        "learning_rate = 0.05\n",
        "\n",
        "\n",
        "---\n",
        "\n",
        "\n",
        "\n",
        "\n",
        "\n",
        "\n",
        "\n"
      ]
    },
    {
      "cell_type": "code",
      "metadata": {
        "id": "DQIzaUjWUHv7",
        "colab": {
          "base_uri": "https://localhost:8080/"
        },
        "outputId": "767abc1f-6fb2-4570-a983-24cb0ec7efb0"
      },
      "source": [
        "# AdaBoost Classification\n",
        "\n",
        "#from sklearn.tree import DecisionTreeClassifier\n",
        "from sklearn.ensemble import AdaBoostClassifier\n",
        "\n",
        "base_estimator = DecisionTreeClassifier(max_depth = 4)\n",
        "adaboost = AdaBoostClassifier(base_estimator, n_estimators=200, random_state=42, learning_rate=0.05)\n",
        "adaboost.fit(X_train, y_train)\n",
        "pred_adaboost = adaboost.predict(X_test)\n",
        "acc_adaboost = accuracy_score(y_test, pred_adaboost)\n",
        "print('Adaboost Accuracy = ', acc_adaboost)"
      ],
      "execution_count": null,
      "outputs": [
        {
          "output_type": "stream",
          "text": [
            "Adaboost Accuracy =  0.9238095238095239\n"
          ],
          "name": "stdout"
        }
      ]
    },
    {
      "cell_type": "markdown",
      "metadata": {
        "id": "usBQDazfw2L1"
      },
      "source": [
        "#### b) Calculate the top 3 important features for the above **AdaBoost** model and print them (3 marks)"
      ]
    },
    {
      "cell_type": "code",
      "metadata": {
        "id": "jbEUjwQRw3rW",
        "colab": {
          "base_uri": "https://localhost:8080/"
        },
        "outputId": "47a6ac3a-4a62-4bac-89d2-d6232d41eacb"
      },
      "source": [
        "# Top 3 features for AdaBoost\n",
        "\n",
        "imp_ad = pd.DataFrame(zip(X_train.columns, adaboost.feature_importances_))\n",
        "sorted = imp_ad.sort_values(by = 1, ascending = False)\n",
        "print('Top three most important features are:', sorted[0:3])"
      ],
      "execution_count": null,
      "outputs": [
        {
          "output_type": "stream",
          "text": [
            "Top three most important features are:                              0         1\n",
            "0              Clump Thickness  0.346175\n",
            "4  Single Epithelial Cell Size  0.197838\n",
            "1      Uniformity of Cell Size  0.091346\n"
          ],
          "name": "stdout"
        }
      ]
    },
    {
      "cell_type": "markdown",
      "metadata": {
        "id": "zMpdvP7ZjAOt"
      },
      "source": [
        "### 6. Voting : Using a voting classifier, build an ensemble of RandomForestClassifier, DecisionTreeClassifier, Support Vector Machine and Logistic Regression. (7 marks)\n",
        "\n",
        "\n",
        "---\n",
        "\n",
        "\n",
        "Use max_depth = 4, n_estimators = 200, voting = soft"
      ]
    },
    {
      "cell_type": "code",
      "metadata": {
        "id": "3M3ZIcrqUKjK",
        "colab": {
          "base_uri": "https://localhost:8080/"
        },
        "outputId": "4732660a-0463-4ccf-8aaa-4d3ba5783844"
      },
      "source": [
        "# Voting Ensemble for Classification\n",
        "\n",
        "from sklearn.ensemble import VotingClassifier\n",
        "from sklearn.linear_model import LogisticRegression\n",
        "from sklearn import svm\n",
        "\n",
        "#randomforest_model created above\n",
        "decisiontree_model = DecisionTreeClassifier()\n",
        "logisticregression_model = LogisticRegression()\n",
        "supportvector_model = svm.SVC()\n",
        "\n",
        "decisiontree_model.fit(X_train, y_train)\n",
        "pred_decisiontree = decisiontree_model.predict(X_test)\n",
        "\n",
        "logisticregression_model.fit(X_train, y_train)\n",
        "pred_logisticregression = logisticregression_model.predict(X_test)\n",
        "\n",
        "supportvector_model.fit(X_train, y_train)\n",
        "pred_supportvector = supportvector_model.predict(X_test)\n",
        "\n",
        "averaged_prediction = (pred_randomforest + pred_decisiontree + pred_logisticregression + pred_supportvector )//4\n",
        "acc_average = accuracy_score(y_test, averaged_prediction)\n",
        "print(\"Averaged Accuracy = \", acc_average)\n",
        "\n",
        "voting_model= VotingClassifier(estimators=[('SVC', supportvector_model), ('DTree', decisiontree_model), ('LogReg', logisticregression_model)], voting='hard')\n",
        "voting_model.fit(X_train, y_train)\n",
        "pred_voting = voting_model.predict(X_test)\n",
        "acc_voting = accuracy_score(y_test, pred_voting)\n",
        "print(\"Voting Accuracy =\", acc_voting)"
      ],
      "execution_count": null,
      "outputs": [
        {
          "output_type": "stream",
          "text": [
            "Averaged Accuracy =  0.9380952380952381\n",
            "Voting Accuracy = 0.9666666666666667\n"
          ],
          "name": "stdout"
        }
      ]
    },
    {
      "cell_type": "markdown",
      "metadata": {
        "id": "Wj2CVbBYVTun"
      },
      "source": [
        "### 7. Mention the best model among the above 4 models and its accuracy (1 mark)"
      ]
    },
    {
      "cell_type": "code",
      "metadata": {
        "id": "gj09m4z_lXNB",
        "colab": {
          "base_uri": "https://localhost:8080/"
        },
        "outputId": "6fb5c63e-3ddb-4db1-9040-aaf768d8894b"
      },
      "source": [
        "# Write your answer here\n",
        "\n",
        "print('Random Forest Accuracy = ', acc_randomforest)\n",
        "print('Bagging Accuracy = ', acc_bagged)\n",
        "print('Adaboost Accuracy = ', acc_adaboost)\n",
        "print('Voting Accuracy = ', acc_voting)\n",
        "\n",
        "dictionary = {\"Random Forest\":acc_randomforest, \"Bagging\":acc_bagged, \"Adaboost\":acc_adaboost, \"Voting\":acc_voting}\n",
        "print('The model with the higehst accuracy is:', max(dictionary, key=dictionary.get))"
      ],
      "execution_count": null,
      "outputs": [
        {
          "output_type": "stream",
          "text": [
            "Random Forest Accuracy =  0.9523809523809523\n",
            "Bagging Accuracy =  0.9476190476190476\n",
            "Adaboost Accuracy =  0.9238095238095239\n",
            "Voting Accuracy =  0.9666666666666667\n",
            "The model with the higehst accuracy is: Voting\n"
          ],
          "name": "stdout"
        }
      ]
    }
  ]
}